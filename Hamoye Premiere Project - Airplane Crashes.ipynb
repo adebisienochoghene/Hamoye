{
 "cells": [
  {
   "cell_type": "markdown",
   "id": "ce5fa537",
   "metadata": {},
   "source": [
    "# Predicting Severity of Airplane Crashes using Machine Learning\n",
    "This notebook entails classification of airplane crashes, that is, if an airplane crash is classified as severe or not."
   ]
  },
  {
   "cell_type": "markdown",
   "id": "f2df69cb",
   "metadata": {},
   "source": [
    "## Problem Statement\n",
    "Airplane transportation is expensive, yet essential to cover long distances in shortest possible time. Airplane accidents rarely happen without fatality, which vary based on the number of people aboard. The severity of fatality can be classified based on the proportion of fatality to total individuals aboard. This project aims to classify airplane crashes based on severity of fatalities, and predict severity of airplane fatalities based on the dataset features."
   ]
  },
  {
   "cell_type": "markdown",
   "id": "0d629068",
   "metadata": {},
   "source": [
    "## Data\n",
    "The airplane crash data was obtained from Kaggle\n",
    "The dataset downloaded contained 17 features, but only 8 attributes were used in model"
   ]
  },
  {
   "cell_type": "markdown",
   "id": "01f8f6b5",
   "metadata": {},
   "source": [
    "## Features\n",
    "The following features were used to predict the target variable (severe crash or not severe crash)\n",
    "1. Aboard \n",
    "2. Aboard Passangers\n",
    "3. Aboard Crew  \n",
    "3. Fatalities\n",
    "4. Fatalities Passangers\n",
    "5. Fatalities Crew\n",
    "6. Ground\n",
    "7. Year\n",
    "8. Severity  "
   ]
  },
  {
   "cell_type": "code",
   "execution_count": 1,
   "id": "90df9a7a",
   "metadata": {},
   "outputs": [],
   "source": [
    "#Libraries\n",
    "#For Exploratory data analysis and visualization\n",
    "import pandas as pd\n",
    "import numpy as np\n",
    "import seaborn as sns\n",
    "import matplotlib.pyplot as plt\n",
    "\n",
    "#classification model(s)\n",
    "from sklearn.linear_model import LogisticRegression\n",
    "from sklearn.neighbors import KNeighborsClassifier\n",
    "from sklearn.ensemble import RandomForestClassifier\n",
    "\n",
    "#Model evaluation metrics\n",
    "from sklearn.metrics import accuracy_score, confusion_matrix, classification_report, precision_score\n",
    "from sklearn.metrics import recall_score, f1_score, plot_roc_curve\n",
    "from sklearn.model_selection import train_test_split, cross_val_score, RandomizedSearchCV, GridSearchCV\n",
    "from sklearn.pipeline import Pipeline, make_pipeline\n",
    "from sklearn.preprocessing import OrdinalEncoder"
   ]
  },
  {
   "cell_type": "markdown",
   "id": "604742a2",
   "metadata": {},
   "source": [
    "###Plan of action for cleaning the dataset\n",
    "1. #Drop 'Flight #' because missing entries are too excessive\n",
    "2. Check for duplicates\n",
    "3. Fill forward all features except Date which has no missing entry. ['Time', 'Locator', 'Operator', 'Route', 'AC Type', 'Registration', 'cn/ln', 'Aboard'...]\n",
    "4. Create new feature called 'Year' from 'Date'. Drop Date column\n",
    "5. KNow unique values to know high and low cardinality\n",
    "6. Check for multicollinearity\n",
    "7. Check for outliers\n",
    "8. Descriptive statistics for 'Aboard' to 'Ground'\n",
    "9. Create new column 'Crash_Severity' for grouping based on severity of crash\n",
    "11. Encoding categorical features: Convert non-numeric features (categorical) to numeric"
   ]
  },
  {
   "cell_type": "code",
   "execution_count": 2,
   "id": "ee97d94f",
   "metadata": {},
   "outputs": [],
   "source": [
    "#Create a function to clean dataset and return cleaned and pre-processed dataset in a dataframe\n",
    "def clean_data(filepath):\n",
    "    df = pd.read_csv(filepath)\n",
    "    #Drop columns with high missing entries\n",
    "    cols_to_drop = []\n",
    "    cols_to_drop.append('Flight #')\n",
    "    #Extract 'Year' from 'Date' and drop 'Date'\n",
    "    df['Date'] = pd.to_datetime(df['Date'])\n",
    "    df['Year'] = df['Date'].dt.year\n",
    "    cols_to_drop.append('Date')\n",
    "    #Drop columns with high varying entries. df.unique()\n",
    "    high_var = ['Time','Location', 'Operator', 'Route', 'AC Type', 'Registration', 'cn/ln', 'Summary']\n",
    "    cols_to_drop.extend(high_var)\n",
    "    #Fill missing data\n",
    "    df.fillna(method='ffill', inplace=True)\n",
    "    #Create binary target\n",
    "    df['Severity'] = (df['Fatalities'] > (0.5 * df['Aboard'])).astype(int)\n",
    "    #Drop features no longer needed\n",
    "    df.drop(columns=cols_to_drop, axis=1, inplace=True)\n",
    "    \n",
    "    return df"
   ]
  },
  {
   "cell_type": "code",
   "execution_count": 3,
   "id": "243d1827",
   "metadata": {},
   "outputs": [
    {
     "name": "stdout",
     "output_type": "stream",
     "text": [
      "<class 'pandas.core.frame.DataFrame'>\n",
      "RangeIndex: 4967 entries, 0 to 4966\n",
      "Data columns (total 9 columns):\n",
      " #   Column                 Non-Null Count  Dtype  \n",
      "---  ------                 --------------  -----  \n",
      " 0   Aboard                 4967 non-null   float64\n",
      " 1   Aboard Passangers      4967 non-null   float64\n",
      " 2   Aboard Crew            4967 non-null   float64\n",
      " 3   Fatalities             4967 non-null   float64\n",
      " 4   Fatalities Passangers  4967 non-null   float64\n",
      " 5   Fatalities Crew        4967 non-null   float64\n",
      " 6   Ground                 4967 non-null   float64\n",
      " 7   Year                   4967 non-null   int64  \n",
      " 8   Severity               4967 non-null   int64  \n",
      "dtypes: float64(7), int64(2)\n",
      "memory usage: 349.4 KB\n"
     ]
    }
   ],
   "source": [
    "df = clean_data('airplane/Airplane_Crashes_and_Fatalities_Since_1908_20190820105639.csv')\n",
    "df.info()"
   ]
  },
  {
   "cell_type": "markdown",
   "id": "b0254bc8",
   "metadata": {},
   "source": [
    "More EDA"
   ]
  },
  {
   "cell_type": "code",
   "execution_count": 4,
   "id": "3e9c917f",
   "metadata": {},
   "outputs": [
    {
     "data": {
      "image/png": "[encoded data removed]",
      "text/plain": [
       "<Figure size 1296x720 with 28 Axes>"
      ]
     },
     "metadata": {
      "needs_background": "light"
     },
     "output_type": "display_data"
    }
   ],
   "source": [
    "#Check for outliers\n",
    "df.plot(kind='box', subplots=True, layout=(7,4), sharex=False, sharey=False, figsize=(18,10));\n",
    "#plt.show()"
   ]
  },
  {
   "cell_type": "code",
   "execution_count": 5,
   "id": "c870c421",
   "metadata": {},
   "outputs": [
    {
     "data": {
      "text/plain": [
       "4327     125.0\n",
       "2242     125.0\n",
       "3986     225.0\n",
       "4329    2750.0\n",
       "4328    2750.0\n",
       "Name: Ground, dtype: float64"
      ]
     },
     "execution_count": 5,
     "metadata": {},
     "output_type": "execute_result"
    }
   ],
   "source": [
    "#Find index position of outlier in df['Ground']\n",
    "df['Ground'].sort_values().tail()"
   ]
  },
  {
   "cell_type": "code",
   "execution_count": 6,
   "id": "2d52a445",
   "metadata": {},
   "outputs": [],
   "source": [
    "#Remove outlier based on index position\n",
    "df.drop([4328, 4329], inplace=True)"
   ]
  },
  {
   "cell_type": "code",
   "execution_count": 7,
   "id": "37092cc9",
   "metadata": {},
   "outputs": [
    {
     "data": {
      "text/html": [
       "<div>\n",
       "<style scoped>\n",
       "    .dataframe tbody tr th:only-of-type {\n",
       "        vertical-align: middle;\n",
       "    }\n",
       "\n",
       "    .dataframe tbody tr th {\n",
       "        vertical-align: top;\n",
       "    }\n",
       "\n",
       "    .dataframe thead th {\n",
       "        text-align: right;\n",
       "    }\n",
       "</style>\n",
       "<table border=\"1\" class=\"dataframe\">\n",
       "  <thead>\n",
       "    <tr style=\"text-align: right;\">\n",
       "      <th></th>\n",
       "      <th>Aboard</th>\n",
       "      <th>Aboard Passangers</th>\n",
       "      <th>Aboard Crew</th>\n",
       "      <th>Fatalities</th>\n",
       "      <th>Fatalities Passangers</th>\n",
       "      <th>Fatalities Crew</th>\n",
       "      <th>Ground</th>\n",
       "      <th>Year</th>\n",
       "      <th>Severity</th>\n",
       "    </tr>\n",
       "  </thead>\n",
       "  <tbody>\n",
       "    <tr>\n",
       "      <th>Aboard</th>\n",
       "      <td>1.000000</td>\n",
       "      <td>0.971297</td>\n",
       "      <td>0.577807</td>\n",
       "      <td>0.741535</td>\n",
       "      <td>0.725681</td>\n",
       "      <td>0.301719</td>\n",
       "      <td>-0.003544</td>\n",
       "      <td>0.210497</td>\n",
       "      <td>-0.166999</td>\n",
       "    </tr>\n",
       "    <tr>\n",
       "      <th>Aboard Passangers</th>\n",
       "      <td>0.971297</td>\n",
       "      <td>1.000000</td>\n",
       "      <td>0.550595</td>\n",
       "      <td>0.725354</td>\n",
       "      <td>0.750142</td>\n",
       "      <td>0.273759</td>\n",
       "      <td>-0.004913</td>\n",
       "      <td>0.219629</td>\n",
       "      <td>-0.159612</td>\n",
       "    </tr>\n",
       "    <tr>\n",
       "      <th>Aboard Crew</th>\n",
       "      <td>0.577807</td>\n",
       "      <td>0.550595</td>\n",
       "      <td>1.000000</td>\n",
       "      <td>0.458933</td>\n",
       "      <td>0.427240</td>\n",
       "      <td>0.768487</td>\n",
       "      <td>0.022520</td>\n",
       "      <td>0.094910</td>\n",
       "      <td>-0.056731</td>\n",
       "    </tr>\n",
       "    <tr>\n",
       "      <th>Fatalities</th>\n",
       "      <td>0.741535</td>\n",
       "      <td>0.725354</td>\n",
       "      <td>0.458933</td>\n",
       "      <td>1.000000</td>\n",
       "      <td>0.968019</td>\n",
       "      <td>0.544207</td>\n",
       "      <td>0.004734</td>\n",
       "      <td>0.161562</td>\n",
       "      <td>0.216572</td>\n",
       "    </tr>\n",
       "    <tr>\n",
       "      <th>Fatalities Passangers</th>\n",
       "      <td>0.725681</td>\n",
       "      <td>0.750142</td>\n",
       "      <td>0.427240</td>\n",
       "      <td>0.968019</td>\n",
       "      <td>1.000000</td>\n",
       "      <td>0.498369</td>\n",
       "      <td>0.003812</td>\n",
       "      <td>0.170212</td>\n",
       "      <td>0.185709</td>\n",
       "    </tr>\n",
       "    <tr>\n",
       "      <th>Fatalities Crew</th>\n",
       "      <td>0.301719</td>\n",
       "      <td>0.273759</td>\n",
       "      <td>0.768487</td>\n",
       "      <td>0.544207</td>\n",
       "      <td>0.498369</td>\n",
       "      <td>1.000000</td>\n",
       "      <td>0.022379</td>\n",
       "      <td>0.043141</td>\n",
       "      <td>0.338555</td>\n",
       "    </tr>\n",
       "    <tr>\n",
       "      <th>Ground</th>\n",
       "      <td>-0.003544</td>\n",
       "      <td>-0.004913</td>\n",
       "      <td>0.022520</td>\n",
       "      <td>0.004734</td>\n",
       "      <td>0.003812</td>\n",
       "      <td>0.022379</td>\n",
       "      <td>1.000000</td>\n",
       "      <td>0.036387</td>\n",
       "      <td>-0.021968</td>\n",
       "    </tr>\n",
       "    <tr>\n",
       "      <th>Year</th>\n",
       "      <td>0.210497</td>\n",
       "      <td>0.219629</td>\n",
       "      <td>0.094910</td>\n",
       "      <td>0.161562</td>\n",
       "      <td>0.170212</td>\n",
       "      <td>0.043141</td>\n",
       "      <td>0.036387</td>\n",
       "      <td>1.000000</td>\n",
       "      <td>-0.046592</td>\n",
       "    </tr>\n",
       "    <tr>\n",
       "      <th>Severity</th>\n",
       "      <td>-0.166999</td>\n",
       "      <td>-0.159612</td>\n",
       "      <td>-0.056731</td>\n",
       "      <td>0.216572</td>\n",
       "      <td>0.185709</td>\n",
       "      <td>0.338555</td>\n",
       "      <td>-0.021968</td>\n",
       "      <td>-0.046592</td>\n",
       "      <td>1.000000</td>\n",
       "    </tr>\n",
       "  </tbody>\n",
       "</table>\n",
       "</div>"
      ],
      "text/plain": [
       "                         Aboard  Aboard Passangers  Aboard Crew  Fatalities  \\\n",
       "Aboard                 1.000000           0.971297     0.577807    0.741535   \n",
       "Aboard Passangers      0.971297           1.000000     0.550595    0.725354   \n",
       "Aboard Crew            0.577807           0.550595     1.000000    0.458933   \n",
       "Fatalities             0.741535           0.725354     0.458933    1.000000   \n",
       "Fatalities Passangers  0.725681           0.750142     0.427240    0.968019   \n",
       "Fatalities Crew        0.301719           0.273759     0.768487    0.544207   \n",
       "Ground                -0.003544          -0.004913     0.022520    0.004734   \n",
       "Year                   0.210497           0.219629     0.094910    0.161562   \n",
       "Severity              -0.166999          -0.159612    -0.056731    0.216572   \n",
       "\n",
       "                       Fatalities Passangers  Fatalities Crew    Ground  \\\n",
       "Aboard                              0.725681         0.301719 -0.003544   \n",
       "Aboard Passangers                   0.750142         0.273759 -0.004913   \n",
       "Aboard Crew                         0.427240         0.768487  0.022520   \n",
       "Fatalities                          0.968019         0.544207  0.004734   \n",
       "Fatalities Passangers               1.000000         0.498369  0.003812   \n",
       "Fatalities Crew                     0.498369         1.000000  0.022379   \n",
       "Ground                              0.003812         0.022379  1.000000   \n",
       "Year                                0.170212         0.043141  0.036387   \n",
       "Severity                            0.185709         0.338555 -0.021968   \n",
       "\n",
       "                           Year  Severity  \n",
       "Aboard                 0.210497 -0.166999  \n",
       "Aboard Passangers      0.219629 -0.159612  \n",
       "Aboard Crew            0.094910 -0.056731  \n",
       "Fatalities             0.161562  0.216572  \n",
       "Fatalities Passangers  0.170212  0.185709  \n",
       "Fatalities Crew        0.043141  0.338555  \n",
       "Ground                 0.036387 -0.021968  \n",
       "Year                   1.000000 -0.046592  \n",
       "Severity              -0.046592  1.000000  "
      ]
     },
     "execution_count": 7,
     "metadata": {},
     "output_type": "execute_result"
    }
   ],
   "source": [
    "#See correlation of features\n",
    "correl = df.corr()\n",
    "correl"
   ]
  },
  {
   "cell_type": "code",
   "execution_count": 8,
   "id": "80055dbd",
   "metadata": {},
   "outputs": [
    {
     "data": {
      "image/png": "[encoded data removed]",
      "text/plain": [
       "<Figure size 1080x720 with 2 Axes>"
      ]
     },
     "metadata": {
      "needs_background": "light"
     },
     "output_type": "display_data"
    }
   ],
   "source": [
    "#Visualize the correlation\n",
    "fig, ax = plt.subplots(figsize=(15,10))\n",
    "ax = sns.heatmap(correl, linewidths=1, annot=True, color='r')"
   ]
  },
  {
   "cell_type": "markdown",
   "id": "8a54cb6f",
   "metadata": {},
   "source": [
    "VISUALIZATIONS"
   ]
  },
  {
   "cell_type": "code",
   "execution_count": 9,
   "id": "b67ae938",
   "metadata": {},
   "outputs": [
    {
     "data": {
      "text/html": [
       "<div>\n",
       "<style scoped>\n",
       "    .dataframe tbody tr th:only-of-type {\n",
       "        vertical-align: middle;\n",
       "    }\n",
       "\n",
       "    .dataframe tbody tr th {\n",
       "        vertical-align: top;\n",
       "    }\n",
       "\n",
       "    .dataframe thead th {\n",
       "        text-align: right;\n",
       "    }\n",
       "</style>\n",
       "<table border=\"1\" class=\"dataframe\">\n",
       "  <thead>\n",
       "    <tr style=\"text-align: right;\">\n",
       "      <th></th>\n",
       "      <th>Aboard</th>\n",
       "      <th>Aboard Passangers</th>\n",
       "      <th>Aboard Crew</th>\n",
       "      <th>Fatalities</th>\n",
       "      <th>Fatalities Passangers</th>\n",
       "      <th>Fatalities Crew</th>\n",
       "      <th>Ground</th>\n",
       "      <th>Year</th>\n",
       "      <th>Severity</th>\n",
       "    </tr>\n",
       "  </thead>\n",
       "  <tbody>\n",
       "    <tr>\n",
       "      <th>0</th>\n",
       "      <td>2.0</td>\n",
       "      <td>1.0</td>\n",
       "      <td>1.0</td>\n",
       "      <td>1.0</td>\n",
       "      <td>1.0</td>\n",
       "      <td>0.0</td>\n",
       "      <td>0.0</td>\n",
       "      <td>1908</td>\n",
       "      <td>0</td>\n",
       "    </tr>\n",
       "    <tr>\n",
       "      <th>1</th>\n",
       "      <td>1.0</td>\n",
       "      <td>0.0</td>\n",
       "      <td>1.0</td>\n",
       "      <td>1.0</td>\n",
       "      <td>0.0</td>\n",
       "      <td>0.0</td>\n",
       "      <td>0.0</td>\n",
       "      <td>1909</td>\n",
       "      <td>1</td>\n",
       "    </tr>\n",
       "    <tr>\n",
       "      <th>2</th>\n",
       "      <td>5.0</td>\n",
       "      <td>0.0</td>\n",
       "      <td>5.0</td>\n",
       "      <td>5.0</td>\n",
       "      <td>0.0</td>\n",
       "      <td>5.0</td>\n",
       "      <td>0.0</td>\n",
       "      <td>1912</td>\n",
       "      <td>1</td>\n",
       "    </tr>\n",
       "    <tr>\n",
       "      <th>3</th>\n",
       "      <td>1.0</td>\n",
       "      <td>0.0</td>\n",
       "      <td>1.0</td>\n",
       "      <td>1.0</td>\n",
       "      <td>0.0</td>\n",
       "      <td>1.0</td>\n",
       "      <td>0.0</td>\n",
       "      <td>1913</td>\n",
       "      <td>1</td>\n",
       "    </tr>\n",
       "    <tr>\n",
       "      <th>4</th>\n",
       "      <td>20.0</td>\n",
       "      <td>0.0</td>\n",
       "      <td>1.0</td>\n",
       "      <td>14.0</td>\n",
       "      <td>0.0</td>\n",
       "      <td>1.0</td>\n",
       "      <td>0.0</td>\n",
       "      <td>1913</td>\n",
       "      <td>1</td>\n",
       "    </tr>\n",
       "  </tbody>\n",
       "</table>\n",
       "</div>"
      ],
      "text/plain": [
       "   Aboard  Aboard Passangers  Aboard Crew  Fatalities  Fatalities Passangers  \\\n",
       "0     2.0                1.0          1.0         1.0                    1.0   \n",
       "1     1.0                0.0          1.0         1.0                    0.0   \n",
       "2     5.0                0.0          5.0         5.0                    0.0   \n",
       "3     1.0                0.0          1.0         1.0                    0.0   \n",
       "4    20.0                0.0          1.0        14.0                    0.0   \n",
       "\n",
       "   Fatalities Crew  Ground  Year  Severity  \n",
       "0              0.0     0.0  1908         0  \n",
       "1              0.0     0.0  1909         1  \n",
       "2              5.0     0.0  1912         1  \n",
       "3              1.0     0.0  1913         1  \n",
       "4              1.0     0.0  1913         1  "
      ]
     },
     "execution_count": 9,
     "metadata": {},
     "output_type": "execute_result"
    }
   ],
   "source": [
    "df.head()"
   ]
  },
  {
   "cell_type": "code",
   "execution_count": 10,
   "id": "e9a654a2",
   "metadata": {},
   "outputs": [
    {
     "data": {
      "text/plain": [
       "1946    88\n",
       "1989    83\n",
       "1947    82\n",
       "1948    77\n",
       "1962    77\n",
       "1972    77\n",
       "1951    75\n",
       "1994    74\n",
       "1945    74\n",
       "1970    73\n",
       "Name: Year, dtype: int64"
      ]
     },
     "execution_count": 10,
     "metadata": {},
     "output_type": "execute_result"
    }
   ],
   "source": [
    "#See highest number of airplane crashes by year\n",
    "df['Year'].value_counts().head(10)"
   ]
  },
  {
   "cell_type": "code",
   "execution_count": 11,
   "id": "605ed829",
   "metadata": {},
   "outputs": [
    {
     "data": {
      "text/plain": [
       "(array([ 33., 208., 383., 735., 708., 698., 583., 705., 585., 327.]),\n",
       " array([1908. , 1919.1, 1930.2, 1941.3, 1952.4, 1963.5, 1974.6, 1985.7,\n",
       "        1996.8, 2007.9, 2019. ]),\n",
       " <BarContainer object of 10 artists>)"
      ]
     },
     "execution_count": 11,
     "metadata": {},
     "output_type": "execute_result"
    },
    {
     "data": {
      "image/png": "[encoded data removed]",
      "text/plain": [
       "<Figure size 432x288 with 1 Axes>"
      ]
     },
     "metadata": {
      "needs_background": "light"
     },
     "output_type": "display_data"
    }
   ],
   "source": [
    "#Histogram showing airplane crashes based on year\n",
    "plt.hist(df['Year'])"
   ]
  },
  {
   "cell_type": "code",
   "execution_count": 12,
   "id": "827243b2",
   "metadata": {},
   "outputs": [
    {
     "data": {
      "text/plain": [
       "1    4042\n",
       "0     923\n",
       "Name: Severity, dtype: int64"
      ]
     },
     "execution_count": 12,
     "metadata": {},
     "output_type": "execute_result"
    }
   ],
   "source": [
    "#Actual values of severity. 1 represents positive, 0 represents negative. That is, severe crashes or not severe crashes\n",
    "df['Severity'].value_counts()"
   ]
  },
  {
   "cell_type": "code",
   "execution_count": 13,
   "id": "2106dac4",
   "metadata": {},
   "outputs": [
    {
     "data": {
      "text/plain": [
       "<AxesSubplot:xlabel='Severity', ylabel='Relative Frequency'>"
      ]
     },
     "execution_count": 13,
     "metadata": {},
     "output_type": "execute_result"
    },
    {
     "data": {
      "image/png": "[encoded data removed]",
      "text/plain": [
       "<Figure size 432x288 with 1 Axes>"
      ]
     },
     "metadata": {
      "needs_background": "light"
     },
     "output_type": "display_data"
    }
   ],
   "source": [
    "#Relative frequency of severity of airplane crashes\n",
    "df['Severity'].value_counts(normalize=True).plot(kind='bar', xlabel='Severity', ylabel='Relative Frequency')"
   ]
  },
  {
   "cell_type": "code",
   "execution_count": 14,
   "id": "6f341adc",
   "metadata": {},
   "outputs": [
    {
     "data": {
      "text/plain": [
       "Text(0.5, 1.0, 'Aboard vs. Fatalities')"
      ]
     },
     "execution_count": 14,
     "metadata": {},
     "output_type": "execute_result"
    },
    {
     "data": {
      "image/png": "[encoded data removed]",
      "text/plain": [
       "<Figure size 432x288 with 1 Axes>"
      ]
     },
     "metadata": {
      "needs_background": "light"
     },
     "output_type": "display_data"
    }
   ],
   "source": [
    "#See relationship between aboard and fatalities\n",
    "plt.scatter(x=df['Aboard'], y=df['Fatalities'])\n",
    "plt.xlabel('Number of People on the Airplane')\n",
    "plt.ylabel('Number of People who dies after airplane crashed')\n",
    "plt.title('Aboard vs. Fatalities')"
   ]
  },
  {
   "cell_type": "code",
   "execution_count": 15,
   "id": "27dda5e6",
   "metadata": {},
   "outputs": [
    {
     "data": {
      "text/plain": [
       "<AxesSubplot:xlabel='Severity', ylabel='Aboard'>"
      ]
     },
     "execution_count": 15,
     "metadata": {},
     "output_type": "execute_result"
    },
    {
     "data": {
      "image/png": "[encoded data removed]",
      "text/plain": [
       "<Figure size 432x288 with 1 Axes>"
      ]
     },
     "metadata": {
      "needs_background": "light"
     },
     "output_type": "display_data"
    }
   ],
   "source": [
    "#Visualization between a discontinuous variable and a continuous variable\n",
    "sns.boxplot(x='Severity', y='Aboard', data=df)"
   ]
  },
  {
   "cell_type": "code",
   "execution_count": null,
   "id": "f8f88394",
   "metadata": {},
   "outputs": [],
   "source": []
  },
  {
   "cell_type": "markdown",
   "id": "02ae4f09",
   "metadata": {},
   "source": [
    "## MODELING\n",
    "SPLIT"
   ]
  },
  {
   "cell_type": "code",
   "execution_count": 16,
   "id": "de711ab3",
   "metadata": {},
   "outputs": [
    {
     "data": {
      "text/html": [
       "<div>\n",
       "<style scoped>\n",
       "    .dataframe tbody tr th:only-of-type {\n",
       "        vertical-align: middle;\n",
       "    }\n",
       "\n",
       "    .dataframe tbody tr th {\n",
       "        vertical-align: top;\n",
       "    }\n",
       "\n",
       "    .dataframe thead th {\n",
       "        text-align: right;\n",
       "    }\n",
       "</style>\n",
       "<table border=\"1\" class=\"dataframe\">\n",
       "  <thead>\n",
       "    <tr style=\"text-align: right;\">\n",
       "      <th></th>\n",
       "      <th>Aboard</th>\n",
       "      <th>Aboard Passangers</th>\n",
       "      <th>Aboard Crew</th>\n",
       "      <th>Fatalities</th>\n",
       "      <th>Fatalities Passangers</th>\n",
       "      <th>Fatalities Crew</th>\n",
       "      <th>Ground</th>\n",
       "      <th>Year</th>\n",
       "      <th>Severity</th>\n",
       "    </tr>\n",
       "  </thead>\n",
       "  <tbody>\n",
       "    <tr>\n",
       "      <th>0</th>\n",
       "      <td>2.0</td>\n",
       "      <td>1.0</td>\n",
       "      <td>1.0</td>\n",
       "      <td>1.0</td>\n",
       "      <td>1.0</td>\n",
       "      <td>0.0</td>\n",
       "      <td>0.0</td>\n",
       "      <td>1908</td>\n",
       "      <td>0</td>\n",
       "    </tr>\n",
       "    <tr>\n",
       "      <th>1</th>\n",
       "      <td>1.0</td>\n",
       "      <td>0.0</td>\n",
       "      <td>1.0</td>\n",
       "      <td>1.0</td>\n",
       "      <td>0.0</td>\n",
       "      <td>0.0</td>\n",
       "      <td>0.0</td>\n",
       "      <td>1909</td>\n",
       "      <td>1</td>\n",
       "    </tr>\n",
       "    <tr>\n",
       "      <th>2</th>\n",
       "      <td>5.0</td>\n",
       "      <td>0.0</td>\n",
       "      <td>5.0</td>\n",
       "      <td>5.0</td>\n",
       "      <td>0.0</td>\n",
       "      <td>5.0</td>\n",
       "      <td>0.0</td>\n",
       "      <td>1912</td>\n",
       "      <td>1</td>\n",
       "    </tr>\n",
       "    <tr>\n",
       "      <th>3</th>\n",
       "      <td>1.0</td>\n",
       "      <td>0.0</td>\n",
       "      <td>1.0</td>\n",
       "      <td>1.0</td>\n",
       "      <td>0.0</td>\n",
       "      <td>1.0</td>\n",
       "      <td>0.0</td>\n",
       "      <td>1913</td>\n",
       "      <td>1</td>\n",
       "    </tr>\n",
       "    <tr>\n",
       "      <th>4</th>\n",
       "      <td>20.0</td>\n",
       "      <td>0.0</td>\n",
       "      <td>1.0</td>\n",
       "      <td>14.0</td>\n",
       "      <td>0.0</td>\n",
       "      <td>1.0</td>\n",
       "      <td>0.0</td>\n",
       "      <td>1913</td>\n",
       "      <td>1</td>\n",
       "    </tr>\n",
       "  </tbody>\n",
       "</table>\n",
       "</div>"
      ],
      "text/plain": [
       "   Aboard  Aboard Passangers  Aboard Crew  Fatalities  Fatalities Passangers  \\\n",
       "0     2.0                1.0          1.0         1.0                    1.0   \n",
       "1     1.0                0.0          1.0         1.0                    0.0   \n",
       "2     5.0                0.0          5.0         5.0                    0.0   \n",
       "3     1.0                0.0          1.0         1.0                    0.0   \n",
       "4    20.0                0.0          1.0        14.0                    0.0   \n",
       "\n",
       "   Fatalities Crew  Ground  Year  Severity  \n",
       "0              0.0     0.0  1908         0  \n",
       "1              0.0     0.0  1909         1  \n",
       "2              5.0     0.0  1912         1  \n",
       "3              1.0     0.0  1913         1  \n",
       "4              1.0     0.0  1913         1  "
      ]
     },
     "execution_count": 16,
     "metadata": {},
     "output_type": "execute_result"
    }
   ],
   "source": [
    "df.head()"
   ]
  },
  {
   "cell_type": "code",
   "execution_count": 17,
   "id": "4842f889",
   "metadata": {},
   "outputs": [
    {
     "name": "stdout",
     "output_type": "stream",
     "text": [
      "<class 'pandas.core.frame.DataFrame'>\n",
      "Int64Index: 4965 entries, 0 to 4966\n",
      "Data columns (total 9 columns):\n",
      " #   Column                 Non-Null Count  Dtype  \n",
      "---  ------                 --------------  -----  \n",
      " 0   Aboard                 4965 non-null   float64\n",
      " 1   Aboard Passangers      4965 non-null   float64\n",
      " 2   Aboard Crew            4965 non-null   float64\n",
      " 3   Fatalities             4965 non-null   float64\n",
      " 4   Fatalities Passangers  4965 non-null   float64\n",
      " 5   Fatalities Crew        4965 non-null   float64\n",
      " 6   Ground                 4965 non-null   float64\n",
      " 7   Year                   4965 non-null   int64  \n",
      " 8   Severity               4965 non-null   int64  \n",
      "dtypes: float64(7), int64(2)\n",
      "memory usage: 387.9 KB\n"
     ]
    }
   ],
   "source": [
    "df.info()"
   ]
  },
  {
   "cell_type": "code",
   "execution_count": 18,
   "id": "8790d36e",
   "metadata": {},
   "outputs": [
    {
     "name": "stdout",
     "output_type": "stream",
     "text": [
      "<class 'pandas.core.frame.DataFrame'>\n",
      "Int64Index: 4455 entries, 0 to 4966\n",
      "Data columns (total 9 columns):\n",
      " #   Column                 Non-Null Count  Dtype  \n",
      "---  ------                 --------------  -----  \n",
      " 0   Aboard                 4455 non-null   float64\n",
      " 1   Aboard Passangers      4455 non-null   float64\n",
      " 2   Aboard Crew            4455 non-null   float64\n",
      " 3   Fatalities             4455 non-null   float64\n",
      " 4   Fatalities Passangers  4455 non-null   float64\n",
      " 5   Fatalities Crew        4455 non-null   float64\n",
      " 6   Ground                 4455 non-null   float64\n",
      " 7   Year                   4455 non-null   int64  \n",
      " 8   Severity               4455 non-null   int64  \n",
      "dtypes: float64(7), int64(2)\n",
      "memory usage: 348.0 KB\n"
     ]
    }
   ],
   "source": [
    "#Remove duplicated rows again\n",
    "df.drop_duplicates(keep='first', inplace=True)\n",
    "df.info()"
   ]
  },
  {
   "cell_type": "code",
   "execution_count": 19,
   "id": "6b06cf59",
   "metadata": {},
   "outputs": [],
   "source": [
    "#Split: X and y. Target and features\n",
    "y=df['Severity']\n",
    "X = df.drop('Severity', axis=1)"
   ]
  },
  {
   "cell_type": "code",
   "execution_count": 20,
   "id": "4b792bb6",
   "metadata": {},
   "outputs": [],
   "source": [
    "#Split: Training and Testing data\n",
    "X_train, X_test, y_train, y_test = train_test_split(X, y, test_size=0.2, random_state=8)"
   ]
  },
  {
   "cell_type": "code",
   "execution_count": 21,
   "id": "a133e684",
   "metadata": {},
   "outputs": [
    {
     "data": {
      "text/plain": [
       "LogisticRegression(C=0.204, solver='liblinear')"
      ]
     },
     "execution_count": 21,
     "metadata": {},
     "output_type": "execute_result"
    }
   ],
   "source": [
    "#Select classifier models\n",
    "model = LogisticRegression(C=0.204, solver='liblinear')\n",
    "#Fit model to data\n",
    "model.fit(X_train, y_train)"
   ]
  },
  {
   "cell_type": "code",
   "execution_count": 22,
   "id": "4e6eb566",
   "metadata": {},
   "outputs": [
    {
     "name": "stdout",
     "output_type": "stream",
     "text": [
      "0.9974747474747475\n"
     ]
    },
    {
     "data": {
      "text/plain": [
       "0.9988776655443322"
      ]
     },
     "execution_count": 22,
     "metadata": {},
     "output_type": "execute_result"
    }
   ],
   "source": [
    "#Check model score on training and test sets. This score = accuracy. How much predictions were accurate?\n",
    "train_score = accuracy_score(y_train, model.predict(X_train))\n",
    "test_score = model.score(X_test, y_test)\n",
    "print(train_score)\n",
    "test_score"
   ]
  },
  {
   "cell_type": "code",
   "execution_count": 23,
   "id": "ccf626bf",
   "metadata": {},
   "outputs": [
    {
     "name": "stdout",
     "output_type": "stream",
     "text": [
      "[[185   1]\n",
      " [  0 705]]\n"
     ]
    }
   ],
   "source": [
    "#Evaluate\n",
    "#Confusion matrix gives breakdown of predictions\n",
    "y_pred = model.predict(X_test)\n",
    "print(confusion_matrix(y_test, y_pred))"
   ]
  },
  {
   "cell_type": "code",
   "execution_count": 24,
   "id": "93171094",
   "metadata": {},
   "outputs": [
    {
     "data": {
      "text/plain": [
       "Text(33.0, 0.5, 'Predicted label')"
      ]
     },
     "execution_count": 24,
     "metadata": {},
     "output_type": "execute_result"
    },
    {
     "data": {
      "image/png": "[encoded data removed]",
      "text/plain": [
       "<Figure size 432x288 with 2 Axes>"
      ]
     },
     "metadata": {
      "needs_background": "light"
     },
     "output_type": "display_data"
    }
   ],
   "source": [
    "#Visualiza confusion matrix\n",
    "sns.heatmap(confusion_matrix(y_test, y_pred))\n",
    "plt.xlabel('True label')\n",
    "plt.ylabel('Predicted label')"
   ]
  },
  {
   "cell_type": "code",
   "execution_count": 25,
   "id": "acfc74da",
   "metadata": {},
   "outputs": [
    {
     "data": {
      "text/plain": [
       "{'Aboard': -1.3655242040124986,\n",
       " 'Aboard Passangers': -0.03179892969214606,\n",
       " 'Aboard Crew': -0.37437451645246955,\n",
       " 'Fatalities': 2.7232489388370356,\n",
       " 'Fatalities Passangers': 0.040438317017723394,\n",
       " 'Fatalities Crew': 0.4189758378719251,\n",
       " 'Ground': -0.021358254696847004,\n",
       " 'Year': 2.3767794387062656e-05}"
      ]
     },
     "execution_count": 25,
     "metadata": {},
     "output_type": "execute_result"
    }
   ],
   "source": [
    "#Extract feature names and Importances\n",
    "features = model.coef_[0]\n",
    "feature_dict = dict(zip(df.columns, list(features)))\n",
    "feature_dict"
   ]
  },
  {
   "cell_type": "code",
   "execution_count": 26,
   "id": "a27f9db8",
   "metadata": {},
   "outputs": [
    {
     "data": {
      "text/plain": [
       "<AxesSubplot:title={'center':'Feature Importance'}>"
      ]
     },
     "execution_count": 26,
     "metadata": {},
     "output_type": "execute_result"
    },
    {
     "data": {
      "image/png": "[encoded data removed]",
      "text/plain": [
       "<Figure size 432x288 with 1 Axes>"
      ]
     },
     "metadata": {
      "needs_background": "light"
     },
     "output_type": "display_data"
    }
   ],
   "source": [
    "#Visualize Important features\n",
    "feature_df = pd.DataFrame(feature_dict, index=[0])\n",
    "feature_df.T.plot.bar(title='Feature Importance', legend=False)"
   ]
  },
  {
   "cell_type": "markdown",
   "id": "1a63ed4b",
   "metadata": {},
   "source": [
    "'Aboard' and 'Aboard Crew'\n",
    "'Fatalities' and 'Fatalities Crew' contributed more to the model performance.\n",
    "Negative values on y-axis refer to negative correlation.\n",
    "Positive values on y-axis refer to positive correlation\n",
    "Fatalities with a value of 2.72, show that as the fatalities increase, the plane crash will be termed severe."
   ]
  }
 ],
 "metadata": {
  "kernelspec": {
   "display_name": "Python 3 (ipykernel)",
   "language": "python",
   "name": "python3"
  },
  "language_info": {
   "codemirror_mode": {
    "name": "ipython",
    "version": 3
   },
   "file_extension": ".py",
   "mimetype": "text/x-python",
   "name": "python",
   "nbconvert_exporter": "python",
   "pygments_lexer": "ipython3",
   "version": "3.9.12"
  }
 },
 "nbformat": 4,
 "nbformat_minor": 5
}
